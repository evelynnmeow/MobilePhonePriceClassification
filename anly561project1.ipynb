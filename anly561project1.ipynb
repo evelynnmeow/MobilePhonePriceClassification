{
  "nbformat": 4,
  "nbformat_minor": 0,
  "metadata": {
    "colab": {
      "name": "anly561project1.ipynb",
      "provenance": [],
      "authorship_tag": "ABX9TyPZXYvf1mG0qJRqc96/YslO"
    },
    "kernelspec": {
      "name": "python3",
      "display_name": "Python 3"
    }
  },
  "cells": [
    {
      "cell_type": "code",
      "metadata": {
        "id": "jPUEcwrJXGag"
      },
      "source": [
        "## This project is aiming at predict the price range of a mobile phone\n",
        "# based on various features\n",
        "\n",
        "# import libraries\n",
        "import pandas as pd\n",
        "import numpy as np\n",
        "import matplotlib.pyplot as plt\n",
        "import seaborn as sns\n",
        "from sklearn.model_selection import train_test_split\n",
        "from sklearn.linear_model import LogisticRegression\n",
        "from sklearn.neighbors import KNeighborsClassifier\n",
        "from sklearn.ensemble import RandomForestClassifier\n",
        "from sklearn.svm import SVC\n",
        "import keras\n",
        "from keras.models import Sequential\n",
        "from keras.layers import *\n",
        "from sklearn.metrics import accuracy_score"
      ],
      "execution_count": 1,
      "outputs": []
    },
    {
      "cell_type": "code",
      "metadata": {
        "id": "Jm3ADYYEXd1C",
        "colab": {
          "base_uri": "https://localhost:8080/"
        },
        "outputId": "e21f16a5-c083-4092-dae1-0b5b91118b65"
      },
      "source": [
        "from google.colab import drive\n",
        "drive.mount('/content/gdrive/')\n"
      ],
      "execution_count": 2,
      "outputs": [
        {
          "output_type": "stream",
          "text": [
            "Drive already mounted at /content/gdrive/; to attempt to forcibly remount, call drive.mount(\"/content/gdrive/\", force_remount=True).\n"
          ],
          "name": "stdout"
        }
      ]
    },
    {
      "cell_type": "code",
      "metadata": {
        "id": "ZLHHCuHZYuVQ"
      },
      "source": [
        "file_path = \"/content/gdrive/My Drive/anly590-datasets/train.csv\"\n",
        "train = pd.read_csv(file_path)"
      ],
      "execution_count": 3,
      "outputs": []
    },
    {
      "cell_type": "code",
      "metadata": {
        "colab": {
          "base_uri": "https://localhost:8080/",
          "height": 283
        },
        "id": "FVvOjLvfY64i",
        "outputId": "19b5edbf-b172-41cc-f125-adb05eeec2f5"
      },
      "source": [
        "train.head()"
      ],
      "execution_count": 4,
      "outputs": [
        {
          "output_type": "execute_result",
          "data": {
            "text/html": [
              "<div>\n",
              "<style scoped>\n",
              "    .dataframe tbody tr th:only-of-type {\n",
              "        vertical-align: middle;\n",
              "    }\n",
              "\n",
              "    .dataframe tbody tr th {\n",
              "        vertical-align: top;\n",
              "    }\n",
              "\n",
              "    .dataframe thead th {\n",
              "        text-align: right;\n",
              "    }\n",
              "</style>\n",
              "<table border=\"1\" class=\"dataframe\">\n",
              "  <thead>\n",
              "    <tr style=\"text-align: right;\">\n",
              "      <th></th>\n",
              "      <th>battery_power</th>\n",
              "      <th>blue</th>\n",
              "      <th>clock_speed</th>\n",
              "      <th>dual_sim</th>\n",
              "      <th>fc</th>\n",
              "      <th>four_g</th>\n",
              "      <th>int_memory</th>\n",
              "      <th>m_dep</th>\n",
              "      <th>mobile_wt</th>\n",
              "      <th>n_cores</th>\n",
              "      <th>pc</th>\n",
              "      <th>px_height</th>\n",
              "      <th>px_width</th>\n",
              "      <th>ram</th>\n",
              "      <th>sc_h</th>\n",
              "      <th>sc_w</th>\n",
              "      <th>talk_time</th>\n",
              "      <th>three_g</th>\n",
              "      <th>touch_screen</th>\n",
              "      <th>wifi</th>\n",
              "      <th>price_range</th>\n",
              "    </tr>\n",
              "  </thead>\n",
              "  <tbody>\n",
              "    <tr>\n",
              "      <th>0</th>\n",
              "      <td>842</td>\n",
              "      <td>0</td>\n",
              "      <td>2.2</td>\n",
              "      <td>0</td>\n",
              "      <td>1</td>\n",
              "      <td>0</td>\n",
              "      <td>7</td>\n",
              "      <td>0.6</td>\n",
              "      <td>188</td>\n",
              "      <td>2</td>\n",
              "      <td>2</td>\n",
              "      <td>20</td>\n",
              "      <td>756</td>\n",
              "      <td>2549</td>\n",
              "      <td>9</td>\n",
              "      <td>7</td>\n",
              "      <td>19</td>\n",
              "      <td>0</td>\n",
              "      <td>0</td>\n",
              "      <td>1</td>\n",
              "      <td>1</td>\n",
              "    </tr>\n",
              "    <tr>\n",
              "      <th>1</th>\n",
              "      <td>1021</td>\n",
              "      <td>1</td>\n",
              "      <td>0.5</td>\n",
              "      <td>1</td>\n",
              "      <td>0</td>\n",
              "      <td>1</td>\n",
              "      <td>53</td>\n",
              "      <td>0.7</td>\n",
              "      <td>136</td>\n",
              "      <td>3</td>\n",
              "      <td>6</td>\n",
              "      <td>905</td>\n",
              "      <td>1988</td>\n",
              "      <td>2631</td>\n",
              "      <td>17</td>\n",
              "      <td>3</td>\n",
              "      <td>7</td>\n",
              "      <td>1</td>\n",
              "      <td>1</td>\n",
              "      <td>0</td>\n",
              "      <td>2</td>\n",
              "    </tr>\n",
              "    <tr>\n",
              "      <th>2</th>\n",
              "      <td>563</td>\n",
              "      <td>1</td>\n",
              "      <td>0.5</td>\n",
              "      <td>1</td>\n",
              "      <td>2</td>\n",
              "      <td>1</td>\n",
              "      <td>41</td>\n",
              "      <td>0.9</td>\n",
              "      <td>145</td>\n",
              "      <td>5</td>\n",
              "      <td>6</td>\n",
              "      <td>1263</td>\n",
              "      <td>1716</td>\n",
              "      <td>2603</td>\n",
              "      <td>11</td>\n",
              "      <td>2</td>\n",
              "      <td>9</td>\n",
              "      <td>1</td>\n",
              "      <td>1</td>\n",
              "      <td>0</td>\n",
              "      <td>2</td>\n",
              "    </tr>\n",
              "    <tr>\n",
              "      <th>3</th>\n",
              "      <td>615</td>\n",
              "      <td>1</td>\n",
              "      <td>2.5</td>\n",
              "      <td>0</td>\n",
              "      <td>0</td>\n",
              "      <td>0</td>\n",
              "      <td>10</td>\n",
              "      <td>0.8</td>\n",
              "      <td>131</td>\n",
              "      <td>6</td>\n",
              "      <td>9</td>\n",
              "      <td>1216</td>\n",
              "      <td>1786</td>\n",
              "      <td>2769</td>\n",
              "      <td>16</td>\n",
              "      <td>8</td>\n",
              "      <td>11</td>\n",
              "      <td>1</td>\n",
              "      <td>0</td>\n",
              "      <td>0</td>\n",
              "      <td>2</td>\n",
              "    </tr>\n",
              "    <tr>\n",
              "      <th>4</th>\n",
              "      <td>1821</td>\n",
              "      <td>1</td>\n",
              "      <td>1.2</td>\n",
              "      <td>0</td>\n",
              "      <td>13</td>\n",
              "      <td>1</td>\n",
              "      <td>44</td>\n",
              "      <td>0.6</td>\n",
              "      <td>141</td>\n",
              "      <td>2</td>\n",
              "      <td>14</td>\n",
              "      <td>1208</td>\n",
              "      <td>1212</td>\n",
              "      <td>1411</td>\n",
              "      <td>8</td>\n",
              "      <td>2</td>\n",
              "      <td>15</td>\n",
              "      <td>1</td>\n",
              "      <td>1</td>\n",
              "      <td>0</td>\n",
              "      <td>1</td>\n",
              "    </tr>\n",
              "  </tbody>\n",
              "</table>\n",
              "</div>"
            ],
            "text/plain": [
              "   battery_power  blue  clock_speed  ...  touch_screen  wifi  price_range\n",
              "0            842     0          2.2  ...             0     1            1\n",
              "1           1021     1          0.5  ...             1     0            2\n",
              "2            563     1          0.5  ...             1     0            2\n",
              "3            615     1          2.5  ...             0     0            2\n",
              "4           1821     1          1.2  ...             1     0            1\n",
              "\n",
              "[5 rows x 21 columns]"
            ]
          },
          "metadata": {
            "tags": []
          },
          "execution_count": 4
        }
      ]
    },
    {
      "cell_type": "code",
      "metadata": {
        "colab": {
          "base_uri": "https://localhost:8080/",
          "height": 812
        },
        "id": "O6ALjL6tZC-9",
        "outputId": "186c3ffa-82d7-4fa1-ffe7-3f7d3d443815"
      },
      "source": [
        "# train set contains 2000 observations and the test set contains 1000\n",
        "# look at the structure of the dataset\n",
        "train.info()\n",
        "# we have 20 predictors and 1 response variables\n",
        "\n",
        "\"\"\"\n",
        "Description of the predictors\n",
        "id:ID\n",
        "battery_power:Total energy a battery can store in one time measured in mAh\n",
        "blue:Has bluetooth or not\n",
        "clock_speed:speed at which microprocessor executes instructions\n",
        "dual_sim:Has dual sim support or not\n",
        "fc:Front Camera mega pixels\n",
        "four_g:Has 4G or not\n",
        "int_memory:Internal Memory in Gigabytes\n",
        "m_dep:Mobile Depth in cm\n",
        "mobile_wt:Weight of mobile phone\n",
        "n_cores:Number of cores of processor\n",
        "pc:Primary Camera mega pixels\n",
        "px_height:Pixel Resolution Height\n",
        "px_width:Pixel Resolution Width\n",
        "ram:Random Access Memory in Megabytes\n",
        "sc_h:Screen Height of mobile in cm\n",
        "sc_w:Screen Width of mobile in cm\n",
        "talk_time:longest time that a single battery charge will last when you are\n",
        "three_g:Has 3G or not\n",
        "touch_screen:Has touch screen or not\n",
        "wifi:Has wifi or not\n",
        "\"\"\""
      ],
      "execution_count": 6,
      "outputs": [
        {
          "output_type": "stream",
          "text": [
            "<class 'pandas.core.frame.DataFrame'>\n",
            "RangeIndex: 2000 entries, 0 to 1999\n",
            "Data columns (total 21 columns):\n",
            " #   Column         Non-Null Count  Dtype  \n",
            "---  ------         --------------  -----  \n",
            " 0   battery_power  2000 non-null   int64  \n",
            " 1   blue           2000 non-null   int64  \n",
            " 2   clock_speed    2000 non-null   float64\n",
            " 3   dual_sim       2000 non-null   int64  \n",
            " 4   fc             2000 non-null   int64  \n",
            " 5   four_g         2000 non-null   int64  \n",
            " 6   int_memory     2000 non-null   int64  \n",
            " 7   m_dep          2000 non-null   float64\n",
            " 8   mobile_wt      2000 non-null   int64  \n",
            " 9   n_cores        2000 non-null   int64  \n",
            " 10  pc             2000 non-null   int64  \n",
            " 11  px_height      2000 non-null   int64  \n",
            " 12  px_width       2000 non-null   int64  \n",
            " 13  ram            2000 non-null   int64  \n",
            " 14  sc_h           2000 non-null   int64  \n",
            " 15  sc_w           2000 non-null   int64  \n",
            " 16  talk_time      2000 non-null   int64  \n",
            " 17  three_g        2000 non-null   int64  \n",
            " 18  touch_screen   2000 non-null   int64  \n",
            " 19  wifi           2000 non-null   int64  \n",
            " 20  price_range    2000 non-null   int64  \n",
            "dtypes: float64(2), int64(19)\n",
            "memory usage: 328.2 KB\n"
          ],
          "name": "stdout"
        },
        {
          "output_type": "execute_result",
          "data": {
            "application/vnd.google.colaboratory.intrinsic+json": {
              "type": "string"
            },
            "text/plain": [
              "'\\nDescription of the predictors\\nid:ID\\nbattery_power:Total energy a battery can store in one time measured in mAh\\nblue:Has bluetooth or not\\nclock_speed:speed at which microprocessor executes instructions\\ndual_sim:Has dual sim support or not\\nfc:Front Camera mega pixels\\nfour_g:Has 4G or not\\nint_memory:Internal Memory in Gigabytes\\nm_dep:Mobile Depth in cm\\nmobile_wt:Weight of mobile phone\\nn_cores:Number of cores of processor\\npc:Primary Camera mega pixels\\npx_height:Pixel Resolution Height\\npx_width:Pixel Resolution Width\\nram:Random Access Memory in Megabytes\\nsc_h:Screen Height of mobile in cm\\nsc_w:Screen Width of mobile in cm\\ntalk_time:longest time that a single battery charge will last when you are\\nthree_g:Has 3G or not\\ntouch_screen:Has touch screen or not\\nwifi:Has wifi or not\\n'"
            ]
          },
          "metadata": {
            "tags": []
          },
          "execution_count": 6
        }
      ]
    },
    {
      "cell_type": "code",
      "metadata": {
        "colab": {
          "base_uri": "https://localhost:8080/",
          "height": 339
        },
        "id": "HQVpBmNbZHRV",
        "outputId": "9740cb5c-54f5-4a71-c312-f0f16da17671"
      },
      "source": [
        "# look at how many price levels we have\n",
        "uniq_price = train['price_range'].unique()\n",
        "print(uniq_price)\n",
        "\n",
        "# According to the author of the dataset, the target variables are\n",
        "# 0 (low cost)\n",
        "# 1 (medium cost)\n",
        "# 2 (high cost)\n",
        "# 3 (very high cost)\n",
        "\n",
        "### EDA and Visualizations\n",
        "# We first look at a pairplot\n",
        "#sns.pairplot(train,hue='price_range')\n",
        "\n",
        "# explore how numeric variables are related to the price range\n",
        "battery_plt=sns.pointplot(y=\"battery_power\", x=\"price_range\", data=train)\n",
        "battery_plt.set_title('Point Plot of Price Range vs Battery Power')\n",
        "battery_plt.set_xlabel('Price Range')\n",
        "battery_plt.set_ylabel('Battery Power')\n",
        "plt.show()\n",
        "plt.clf()"
      ],
      "execution_count": 6,
      "outputs": [
        {
          "output_type": "stream",
          "text": [
            "[1 2 3 0]\n"
          ],
          "name": "stdout"
        },
        {
          "output_type": "display_data",
          "data": {
            "image/png": "[encoded data removed]",
            "text/plain": [
              "<Figure size 432x288 with 1 Axes>"
            ]
          },
          "metadata": {
            "tags": [],
            "needs_background": "light"
          }
        },
        {
          "output_type": "display_data",
          "data": {
            "text/plain": [
              "<Figure size 432x288 with 0 Axes>"
            ]
          },
          "metadata": {
            "tags": []
          }
        }
      ]
    },
    {
      "cell_type": "code",
      "metadata": {
        "colab": {
          "base_uri": "https://localhost:8080/",
          "height": 317
        },
        "id": "PThrj8GHZJ6J",
        "outputId": "403cb918-786a-42b9-922e-9ede0a0a1873"
      },
      "source": [
        "# The average battery power increases dramatically from price 0 to 1, and price range\n",
        "# 2 to 3. But remain constant from 1 to 2. \n",
        "memory_plt = sns.boxplot(x=\"price_range\", y=\"int_memory\", data=train)\n",
        "memory_plt.set_title('Boxplot of Price Range vs Internal Memory')\n",
        "memory_plt.set_xlabel('Price Range')\n",
        "memory_plt.set_ylabel('Internal Memory')\n",
        "plt.show()\n",
        "plt.clf()\n",
        "# Phones of all those categories have similar range of memory, only minor differences\n",
        "# in median values"
      ],
      "execution_count": 7,
      "outputs": [
        {
          "output_type": "display_data",
          "data": {
            "image/png": "[encoded data removed]",
            "text/plain": [
              "<Figure size 432x288 with 1 Axes>"
            ]
          },
          "metadata": {
            "tags": [],
            "needs_background": "light"
          }
        },
        {
          "output_type": "display_data",
          "data": {
            "text/plain": [
              "<Figure size 432x288 with 0 Axes>"
            ]
          },
          "metadata": {
            "tags": []
          }
        }
      ]
    },
    {
      "cell_type": "code",
      "metadata": {
        "colab": {
          "base_uri": "https://localhost:8080/",
          "height": 342
        },
        "id": "OrA1e1NHZMxo",
        "outputId": "59a477c5-4b96-4fde-f339-93e5bcee9426"
      },
      "source": [
        "# ram vs price\n",
        "ram_plt = sns.boxplot(x=\"price_range\", y=\"ram\", data=train)\n",
        "ram_plt.set_title('Boxplot of Price Range vs RAM')\n",
        "ram_plt.set_xlabel('Price Range')\n",
        "ram_plt.set_ylabel('RAM')\n",
        "plt.show()\n",
        "plt.clf()\n",
        "\"\"\"\n",
        "It seems like the median/min/max RAM increases as price increases. \n",
        "\"\"\"\n"
      ],
      "execution_count": 8,
      "outputs": [
        {
          "output_type": "display_data",
          "data": {
            "image/png": "[encoded data removed]",
            "text/plain": [
              "<Figure size 432x288 with 1 Axes>"
            ]
          },
          "metadata": {
            "tags": [],
            "needs_background": "light"
          }
        },
        {
          "output_type": "execute_result",
          "data": {
            "application/vnd.google.colaboratory.intrinsic+json": {
              "type": "string"
            },
            "text/plain": [
              "'\\nIt seems like the median/min/max RAM increases as price increases. \\n'"
            ]
          },
          "metadata": {
            "tags": []
          },
          "execution_count": 8
        },
        {
          "output_type": "display_data",
          "data": {
            "text/plain": [
              "<Figure size 432x288 with 0 Axes>"
            ]
          },
          "metadata": {
            "tags": []
          }
        }
      ]
    },
    {
      "cell_type": "code",
      "metadata": {
        "colab": {
          "base_uri": "https://localhost:8080/",
          "height": 342
        },
        "id": "XEiMHGmbZNfO",
        "outputId": "f8c1b90b-5bb1-414b-b143-4d70c2dbafb8"
      },
      "source": [
        "# weight vs price\n",
        "wgt_plt = sns.boxplot(x=\"price_range\", y=\"mobile_wt\", data=train)\n",
        "wgt_plt.set_title('Boxplot of Price Range vs Weight')\n",
        "wgt_plt.set_xlabel('Price Range')\n",
        "wgt_plt.set_ylabel('Weight')\n",
        "plt.show()\n",
        "plt.clf()\n",
        "\"\"\"\n",
        "The median/min/max weight of price range 3 is less than the first three groups.\n",
        "\"\"\""
      ],
      "execution_count": 9,
      "outputs": [
        {
          "output_type": "display_data",
          "data": {
            "image/png": "[encoded data removed]",
            "text/plain": [
              "<Figure size 432x288 with 1 Axes>"
            ]
          },
          "metadata": {
            "tags": [],
            "needs_background": "light"
          }
        },
        {
          "output_type": "execute_result",
          "data": {
            "application/vnd.google.colaboratory.intrinsic+json": {
              "type": "string"
            },
            "text/plain": [
              "'\\nThe median/min/max weight of price range 3 is less than the first three groups.\\n'"
            ]
          },
          "metadata": {
            "tags": []
          },
          "execution_count": 9
        },
        {
          "output_type": "display_data",
          "data": {
            "text/plain": [
              "<Figure size 432x288 with 0 Axes>"
            ]
          },
          "metadata": {
            "tags": []
          }
        }
      ]
    },
    {
      "cell_type": "code",
      "metadata": {
        "colab": {
          "base_uri": "https://localhost:8080/",
          "height": 295
        },
        "id": "cNzTPQLMZPLg",
        "outputId": "d4def614-d140-4fcb-f2e3-a1fd617cfdd4"
      },
      "source": [
        "### categorical variables\n",
        "# 4G\n",
        "labels4g = [\"4G-supported\",'Not supported']\n",
        "values4g = train['four_g'].value_counts().values\n",
        "fig1, ax1 = plt.subplots()\n",
        "ax1.pie(values4g, labels=labels4g, autopct='%1.1f%%',shadow=True,startangle=90)\n",
        "plt.show()\n",
        "plt.clf()\n",
        "\"\"\"\n",
        "More than half of the phones support 4G\n",
        "\"\"\""
      ],
      "execution_count": 10,
      "outputs": [
        {
          "output_type": "display_data",
          "data": {
            "image/png": "[encoded data removed]",
            "text/plain": [
              "<Figure size 432x288 with 1 Axes>"
            ]
          },
          "metadata": {
            "tags": []
          }
        },
        {
          "output_type": "execute_result",
          "data": {
            "application/vnd.google.colaboratory.intrinsic+json": {
              "type": "string"
            },
            "text/plain": [
              "'\\nMore than half of the phones support 4G\\n'"
            ]
          },
          "metadata": {
            "tags": []
          },
          "execution_count": 10
        },
        {
          "output_type": "display_data",
          "data": {
            "text/plain": [
              "<Figure size 432x288 with 0 Axes>"
            ]
          },
          "metadata": {
            "tags": []
          }
        }
      ]
    },
    {
      "cell_type": "code",
      "metadata": {
        "colab": {
          "base_uri": "https://localhost:8080/",
          "height": 295
        },
        "id": "9GB6ERMWZSBq",
        "outputId": "1045b5e3-c4bf-4530-db20-c6a0a2834cbf"
      },
      "source": [
        "# WIFI\n",
        "labelswifi = [\"WIFI-supported\",'Not supported']\n",
        "valueswifi = train['wifi'].value_counts().values\n",
        "fig2, ax2 = plt.subplots()\n",
        "ax2.pie(valueswifi, labels=labelswifi, autopct='%1.1f%%',shadow=True,startangle=90)\n",
        "plt.show()\n",
        "plt.clf()\n",
        "\"\"\"\n",
        "More than half of the phones support WIFI\n",
        "\"\"\"\n"
      ],
      "execution_count": 11,
      "outputs": [
        {
          "output_type": "display_data",
          "data": {
            "image/png": "[encoded data removed]",
            "text/plain": [
              "<Figure size 432x288 with 1 Axes>"
            ]
          },
          "metadata": {
            "tags": []
          }
        },
        {
          "output_type": "execute_result",
          "data": {
            "application/vnd.google.colaboratory.intrinsic+json": {
              "type": "string"
            },
            "text/plain": [
              "'\\nMore than half of the phones support WIFI\\n'"
            ]
          },
          "metadata": {
            "tags": []
          },
          "execution_count": 11
        },
        {
          "output_type": "display_data",
          "data": {
            "text/plain": [
              "<Figure size 432x288 with 0 Axes>"
            ]
          },
          "metadata": {
            "tags": []
          }
        }
      ]
    },
    {
      "cell_type": "code",
      "metadata": {
        "colab": {
          "base_uri": "https://localhost:8080/",
          "height": 295
        },
        "id": "2BJeu89ZZTrQ",
        "outputId": "11c25b4a-bf7e-431c-f36d-38dba8513953"
      },
      "source": [
        "# Touchscreen\n",
        "labelsscreen = [\"TouchScreen-supported\",'Not supported']\n",
        "valuesscreen = train['touch_screen'].value_counts().values\n",
        "fig2, ax2 = plt.subplots()\n",
        "ax2.pie(valuesscreen, labels=labelsscreen, autopct='%1.1f%%',shadow=True,startangle=90)\n",
        "plt.show()\n",
        "plt.clf()\n",
        "\"\"\"\n",
        "More than half of the phones has touch screen\n",
        "\"\"\""
      ],
      "execution_count": 12,
      "outputs": [
        {
          "output_type": "display_data",
          "data": {
            "image/png": "[encoded data removed]",
            "text/plain": [
              "<Figure size 432x288 with 1 Axes>"
            ]
          },
          "metadata": {
            "tags": []
          }
        },
        {
          "output_type": "execute_result",
          "data": {
            "application/vnd.google.colaboratory.intrinsic+json": {
              "type": "string"
            },
            "text/plain": [
              "'\\nMore than half of the phones has touch screen\\n'"
            ]
          },
          "metadata": {
            "tags": []
          },
          "execution_count": 12
        },
        {
          "output_type": "display_data",
          "data": {
            "text/plain": [
              "<Figure size 432x288 with 0 Axes>"
            ]
          },
          "metadata": {
            "tags": []
          }
        }
      ]
    },
    {
      "cell_type": "code",
      "metadata": {
        "colab": {
          "base_uri": "https://localhost:8080/",
          "height": 473
        },
        "id": "XhvKmh-EZV5j",
        "outputId": "8da142da-3d5b-41f8-a673-0e4ef50d439b"
      },
      "source": [
        "# cameras\n",
        "plt.figure(figsize=(10,6))\n",
        "train['fc'].hist(alpha=0.5,color='yellow',label='Front camera')\n",
        "train['pc'].hist(alpha=0.5,color='purple',label='Primary camera')\n",
        "plt.legend()\n",
        "plt.xlabel('MegaPixels')\n",
        "plt.title(\"Distritbution of Camera Mega Pixels\")\n",
        "plt.show()\n",
        "plt.clf()\n",
        "\n",
        "\"\"\"\n",
        "The distribution of the mega pixel of the front camera is skewed to the right.\n",
        "The distribution of the mega pixel of the primary camera is pretty much uniform.\n",
        "\"\"\""
      ],
      "execution_count": 13,
      "outputs": [
        {
          "output_type": "display_data",
          "data": {
            "image/png": "[encoded data removed]",
            "text/plain": [
              "<Figure size 720x432 with 1 Axes>"
            ]
          },
          "metadata": {
            "tags": [],
            "needs_background": "light"
          }
        },
        {
          "output_type": "execute_result",
          "data": {
            "application/vnd.google.colaboratory.intrinsic+json": {
              "type": "string"
            },
            "text/plain": [
              "'\\nThe distribution of the mega pixel of the front camera is skewed to the right.\\nThe distribution of the mega pixel of the primary camera is pretty much uniform.\\n'"
            ]
          },
          "metadata": {
            "tags": []
          },
          "execution_count": 13
        },
        {
          "output_type": "display_data",
          "data": {
            "text/plain": [
              "<Figure size 432x288 with 0 Axes>"
            ]
          },
          "metadata": {
            "tags": []
          }
        }
      ]
    },
    {
      "cell_type": "code",
      "metadata": {
        "id": "mW8geGF-ZYxH"
      },
      "source": [
        "####### Model Training #######\n",
        "\n",
        "##### Train Test Split #####\n",
        "X=train.drop('price_range',axis=1)\n",
        "y=train['price_range']\n",
        "# use 40% of the data as test set\n",
        "X_train, X_test, y_train, y_test = train_test_split(X, y, test_size=0.4, random_state=919)\n"
      ],
      "execution_count": 7,
      "outputs": []
    },
    {
      "cell_type": "code",
      "metadata": {
        "colab": {
          "base_uri": "https://localhost:8080/",
          "height": 495
        },
        "id": "1_CMlfSAZdj1",
        "outputId": "6805fcc5-50f6-446e-e5fc-70bd274ba812"
      },
      "source": [
        "##### KNN #####\n",
        "# We would first figure out the optimized value of K\n",
        "KNN_error = []\n",
        "for i in range(1,30):\n",
        "    \n",
        "    knn = KNeighborsClassifier(n_neighbors=i)\n",
        "    knn.fit(X_train,y_train)\n",
        "    preds = knn.predict(X_test)\n",
        "    KNN_error.append(np.mean(preds != y_test))\n",
        "\n",
        "plt.figure(figsize=(10,6))\n",
        "plt.plot(range(1,30),KNN_error,color='red', linestyle='dashed', marker='o',\n",
        "         markerfacecolor='black', markersize=5)\n",
        "plt.title('Test Error vs. K Value')\n",
        "plt.xlabel('K Value')\n",
        "plt.ylabel('Test Error')\n",
        "plt.show()\n",
        "plt.clf()\n",
        "\n",
        "\"\"\"\n",
        "As we can see in the plot, K = 12 yields the lowest test error, thus we are going \n",
        "to fit the KNN model with K = 12\n",
        "\"\"\"\n",
        "\n",
        "# fit the model with K = 12\n",
        "knn = KNeighborsClassifier(n_neighbors=12)\n",
        "knn.fit(X_train,y_train)\n",
        "knn_acc = knn.score(X_test,y_test)\n",
        "print(\"##### The test accuracy of the KNN with K = 12 #####\")\n",
        "print(knn_acc)\n",
        "\"\"\"\n",
        "# The test accuracy is 0.93875\n",
        "\"\"\""
      ],
      "execution_count": 16,
      "outputs": [
        {
          "output_type": "display_data",
          "data": {
            "image/png": "[encoded data removed]",
            "text/plain": [
              "<Figure size 720x432 with 1 Axes>"
            ]
          },
          "metadata": {
            "tags": [],
            "needs_background": "light"
          }
        },
        {
          "output_type": "stream",
          "text": [
            "##### The test accuracy of the KNN with K = 12 #####\n",
            "0.93875\n"
          ],
          "name": "stdout"
        },
        {
          "output_type": "execute_result",
          "data": {
            "application/vnd.google.colaboratory.intrinsic+json": {
              "type": "string"
            },
            "text/plain": [
              "'\\n# The test accuracy is 0.93875\\n'"
            ]
          },
          "metadata": {
            "tags": []
          },
          "execution_count": 16
        },
        {
          "output_type": "display_data",
          "data": {
            "text/plain": [
              "<Figure size 432x288 with 0 Axes>"
            ]
          },
          "metadata": {
            "tags": []
          }
        }
      ]
    },
    {
      "cell_type": "code",
      "metadata": {
        "colab": {
          "base_uri": "https://localhost:8080/",
          "height": 1000
        },
        "id": "xXO9Y5QtZhMX",
        "outputId": "5d9da778-bd6d-4642-e3d5-ea903753727d"
      },
      "source": [
        "##### Random Forest #####\n",
        "# We would need to find out the optimized value of n_estimators and max_features\n",
        "rfc_acc = []\n",
        "num_estimators = [100, 150, 200, 250, 300]\n",
        "max_feature = list(range(1, 21))\n",
        "acc = 0\n",
        "print('  x   y  accuracy')\n",
        "for i in num_estimators:\n",
        "  for j in max_feature:\n",
        "    rfc = RandomForestClassifier(n_estimators=i, max_features=j, random_state=919)\n",
        "    rfc.fit(X_train, y_train)\n",
        "    preds = rfc.predict(X_test)\n",
        "    score = rfc.score(X_test,y_test)\n",
        "    print(i, \" \", j, \" \", score, '\\n')\n",
        "\"\"\"n_est=100, max_features=14, acc= 0.92125\"\"\""
      ],
      "execution_count": 30,
      "outputs": [
        {
          "output_type": "stream",
          "text": [
            "  x   y  accuracy\n",
            "100   1   0.67875 \n",
            "\n",
            "100   2   0.79125 \n",
            "\n",
            "100   3   0.8425 \n",
            "\n",
            "100   4   0.865 \n",
            "\n",
            "100   5   0.8775 \n",
            "\n",
            "100   6   0.9 \n",
            "\n",
            "100   7   0.89375 \n",
            "\n",
            "100   8   0.9 \n",
            "\n",
            "100   9   0.91 \n",
            "\n",
            "100   10   0.9075 \n",
            "\n",
            "100   11   0.89875 \n",
            "\n",
            "100   12   0.91 \n",
            "\n",
            "100   13   0.9125 \n",
            "\n",
            "100   14   0.92125 \n",
            "\n",
            "100   15   0.91375 \n",
            "\n",
            "100   16   0.91625 \n",
            "\n",
            "100   17   0.9125 \n",
            "\n",
            "100   18   0.9075 \n",
            "\n",
            "100   19   0.90625 \n",
            "\n",
            "100   20   0.91 \n",
            "\n",
            "150   1   0.7 \n",
            "\n",
            "150   2   0.8175 \n",
            "\n",
            "150   3   0.84875 \n",
            "\n",
            "150   4   0.87625 \n",
            "\n",
            "150   5   0.885 \n",
            "\n",
            "150   6   0.9 \n",
            "\n",
            "150   7   0.9 \n",
            "\n",
            "150   8   0.905 \n",
            "\n",
            "150   9   0.91 \n",
            "\n",
            "150   10   0.91 \n",
            "\n",
            "150   11   0.90375 \n",
            "\n",
            "150   12   0.91 \n",
            "\n",
            "150   13   0.9125 \n",
            "\n",
            "150   14   0.91375 \n",
            "\n",
            "150   15   0.91625 \n",
            "\n",
            "150   16   0.91125 \n",
            "\n",
            "150   17   0.91125 \n",
            "\n",
            "150   18   0.9125 \n",
            "\n",
            "150   19   0.90625 \n",
            "\n",
            "150   20   0.9075 \n",
            "\n",
            "200   1   0.70875 \n",
            "\n",
            "200   2   0.8225 \n",
            "\n",
            "200   3   0.8475 \n",
            "\n",
            "200   4   0.87875 \n",
            "\n",
            "200   5   0.89125 \n",
            "\n",
            "200   6   0.9025 \n",
            "\n",
            "200   7   0.90125 \n",
            "\n",
            "200   8   0.90875 \n",
            "\n",
            "200   9   0.90875 \n",
            "\n",
            "200   10   0.905 \n",
            "\n",
            "200   11   0.905 \n",
            "\n",
            "200   12   0.90625 \n",
            "\n",
            "200   13   0.915 \n",
            "\n",
            "200   14   0.91 \n",
            "\n",
            "200   15   0.91375 \n",
            "\n",
            "200   16   0.91375 \n",
            "\n",
            "200   17   0.9075 \n",
            "\n",
            "200   18   0.9125 \n",
            "\n",
            "200   19   0.90875 \n",
            "\n",
            "200   20   0.9075 \n",
            "\n",
            "250   1   0.72 \n",
            "\n",
            "250   2   0.8125 \n",
            "\n",
            "250   3   0.8525 \n",
            "\n",
            "250   4   0.87125 \n",
            "\n",
            "250   5   0.8875 \n",
            "\n",
            "250   6   0.90375 \n",
            "\n",
            "250   7   0.9 \n",
            "\n",
            "250   8   0.905 \n",
            "\n",
            "250   9   0.90875 \n",
            "\n",
            "250   10   0.90625 \n",
            "\n",
            "250   11   0.9075 \n",
            "\n",
            "250   12   0.90375 \n",
            "\n",
            "250   13   0.91125 \n",
            "\n",
            "250   14   0.91625 \n",
            "\n",
            "250   15   0.91 \n",
            "\n",
            "250   16   0.90875 \n",
            "\n",
            "250   17   0.90875 \n",
            "\n",
            "250   18   0.91125 \n",
            "\n",
            "250   19   0.9075 \n",
            "\n",
            "250   20   0.9075 \n",
            "\n",
            "300   1   0.72375 \n",
            "\n",
            "300   2   0.81625 \n",
            "\n",
            "300   3   0.8575 \n",
            "\n",
            "300   4   0.87875 \n",
            "\n",
            "300   5   0.89 \n",
            "\n",
            "300   6   0.905 \n",
            "\n",
            "300   7   0.9 \n",
            "\n",
            "300   8   0.905 \n",
            "\n",
            "300   9   0.91125 \n",
            "\n",
            "300   10   0.905 \n",
            "\n",
            "300   11   0.90875 \n",
            "\n",
            "300   12   0.90625 \n",
            "\n",
            "300   13   0.91125 \n",
            "\n",
            "300   14   0.91125 \n",
            "\n",
            "300   15   0.91 \n",
            "\n",
            "300   16   0.90625 \n",
            "\n",
            "300   17   0.9075 \n",
            "\n",
            "300   18   0.91125 \n",
            "\n",
            "300   19   0.90875 \n",
            "\n",
            "300   20   0.9075 \n",
            "\n"
          ],
          "name": "stdout"
        },
        {
          "output_type": "execute_result",
          "data": {
            "application/vnd.google.colaboratory.intrinsic+json": {
              "type": "string"
            },
            "text/plain": [
              "' 100 14  0.92125'"
            ]
          },
          "metadata": {
            "tags": []
          },
          "execution_count": 30
        }
      ]
    },
    {
      "cell_type": "code",
      "metadata": {
        "id": "XN20vVEZIoEk"
      },
      "source": [
        "from sklearn.decomposition import PCA\n",
        "pca = PCA(n_components=2)\n",
        "Xreduced = pca.fit_transform(X_train)\n",
        "\n",
        "def make_meshgrid(x, y, h=.02):\n",
        "    x_min, x_max = x.min() - 1, x.max() + 1\n",
        "    y_min, y_max = y.min() - 1, y.max() + 1\n",
        "    xx, yy = np.meshgrid(np.arange(x_min, x_max, h), np.arange(y_min, y_max, h))\n",
        "    return xx, yy\n",
        "\n",
        "def plot_contours(ax, clf, xx, yy, **params):\n",
        "    Z = clf.predict(np.c_[xx.ravel(), yy.ravel()])\n",
        "    Z = Z.reshape(xx.shape)\n",
        "    out = ax.contourf(xx, yy, Z, **params)\n",
        "    return out\n",
        "\n",
        "svm2 = SVC(kernel = 'rbf')\n",
        "clf_svm = svm2.fit(Xreduced, y_train)\n",
        "\n",
        "### SVM C = 10\n",
        "svm3 = SVC(kernel = 'rbf',C=10)\n",
        "clf_svm_10 = svm3.fit(Xreduced, y_train)\n",
        "\n",
        "### SVM C = 10, gamma = 1\n",
        "svm4 = SVC(kernel = 'rbf',C=10,gamma = 1)\n",
        "clf_svm_1 = svm4.fit(Xreduced, y_train)\n",
        "\n",
        "# Set-up grid for plotting.\n",
        "X0, X1 = Xreduced[:, 0], Xreduced[:, 1]\n",
        "xx, yy = make_meshgrid(X0, X1)\n",
        "\n",
        "### SVM\n",
        "fig, (ax,ax1,ax2) = plt.subplots(3,1)\n",
        "fig.suptitle('Compare different C and gamma')\n",
        "\n",
        "##plot\n",
        "plot_contours(ax, clf_svm, xx, yy, cmap=plt.cm.coolwarm, alpha=0.8)\n",
        "ax.scatter(X0, X1, c=y_train, cmap=plt.cm.coolwarm, s=20, edgecolors='k')\n",
        "ax.set_ylabel('PC2')\n",
        "ax.set_xticks(())\n",
        "ax.set_yticks(())\n",
        "ax.set_title('C = 1',x = 0.8,y = 0.9)\n",
        "\n",
        "plot_contours(ax1, clf_svm_10, xx, yy, cmap=plt.cm.coolwarm, alpha=0.8)\n",
        "ax1.scatter(X0, X1, c=y_train, cmap=plt.cm.coolwarm, s=20, edgecolors='k')\n",
        "ax1.set_ylabel('PC2')\n",
        "ax1.set_xticks(())\n",
        "ax1.set_yticks(())\n",
        "ax1.set_title('C=10',x = 0.8,y = 0.9)\n",
        "\n",
        "plot_contours(ax1, clf_svm_10, xx, yy, cmap=plt.cm.coolwarm, alpha=0.8)\n",
        "ax1.scatter(X0, X1, c=y_train, cmap=plt.cm.coolwarm, s=20, edgecolors='k')\n",
        "ax1.set_ylabel('PC2')\n",
        "ax1.set_xticks(())\n",
        "ax1.set_yticks(())\n",
        "ax1.set_title('C=10',x = 0.8,y = 0.9)\n",
        "\n",
        "plot_contours(ax2, clf_svm_1, xx, yy, cmap=plt.cm.coolwarm, alpha=0.8)\n",
        "ax2.scatter(X0, X1, c=y_train, cmap=plt.cm.coolwarm, s=20, edgecolors='k')\n",
        "ax2.set_ylabel('PC2')\n",
        "ax2.set_xlabel('PC1')\n",
        "ax2.set_xticks(())\n",
        "ax2.set_yticks(())\n",
        "ax2.set_title('gamma=1,C = 10',x = 0.8,y = 0.9)"
      ],
      "execution_count": null,
      "outputs": []
    },
    {
      "cell_type": "code",
      "metadata": {
        "colab": {
          "base_uri": "https://localhost:8080/"
        },
        "id": "ieynXMiGZkiT",
        "outputId": "b614a01a-50b4-4812-fe29-d81fb7114d4e"
      },
      "source": [
        "##### SVM #####\n",
        "# using radial basis function kernel\n",
        "svm = SVC(kernel = 'rbf', random_state = 919)\n",
        "svm.fit(X_train, y_train)\n",
        "svm_acc = svm.score(X_test,y_test)\n",
        "print(\"##### The test accuracy of the SVM #####\")\n",
        "print(svm_acc)"
      ],
      "execution_count": 31,
      "outputs": [
        {
          "output_type": "stream",
          "text": [
            "##### The test accuracy of the SVM #####\n",
            "0.9475\n"
          ],
          "name": "stdout"
        }
      ]
    },
    {
      "cell_type": "code",
      "metadata": {
        "id": "qJy4qazfIFKX"
      },
      "source": [
        ""
      ],
      "execution_count": null,
      "outputs": []
    }
  ]
}